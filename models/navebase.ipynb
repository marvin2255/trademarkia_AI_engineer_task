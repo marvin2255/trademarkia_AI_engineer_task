{
  "nbformat": 4,
  "nbformat_minor": 0,
  "metadata": {
    "colab": {
      "provenance": [],
      "toc_visible": true
    },
    "kernelspec": {
      "name": "python3",
      "display_name": "Python 3"
    },
    "language_info": {
      "name": "python"
    }
  },
  "cells": [
    {
      "cell_type": "code",
      "execution_count": 3,
      "metadata": {
        "id": "sRr5hltiLiZc"
      },
      "outputs": [],
      "source": [
        "import json\n",
        "from sklearn.feature_extraction.text import TfidfVectorizer\n",
        "from sklearn.naive_bayes import MultinomialNB\n",
        "from sklearn.metrics import classification_report, accuracy_score"
      ]
    },
    {
      "cell_type": "code",
      "source": [
        "with open('/content/traindata (2).json') as file:\n",
        "    train_data = json.load(file)\n",
        "\n",
        "# Remove unwanted classes from training data\n",
        "unwanted_classes = [\"000\", \"200\", \"B\",\"A\"]\n",
        "train_data = {class_number: lines for class_number, lines in train_data.items() if class_number not in unwanted_classes}\n"
      ],
      "metadata": {
        "id": "HmdG2N0BLqXy"
      },
      "execution_count": 4,
      "outputs": []
    },
    {
      "cell_type": "code",
      "source": [
        "# Extract class labels and lines from training data\n",
        "train_classes = []\n",
        "train_lines = []\n",
        "\n",
        "for key, values in train_data.items():\n",
        "    class_number = key.strip('\"')\n",
        "    train_classes.extend([class_number] * len(values))\n",
        "    train_lines.extend(values)"
      ],
      "metadata": {
        "id": "G0oU80QEOU4h"
      },
      "execution_count": 5,
      "outputs": []
    },
    {
      "cell_type": "code",
      "source": [
        "\n",
        "# Step 2: Feature Extraction - Training Dataset\n",
        "# Convert training lines into numerical representations\n",
        "vectorizer = TfidfVectorizer()\n",
        "X_train = vectorizer.fit_transform(train_lines)\n",
        "\n",
        "# Train the Naive Bayes Classifier\n",
        "nb_classifier = MultinomialNB()\n",
        "nb_classifier.fit(X_train, train_classes)"
      ],
      "metadata": {
        "colab": {
          "base_uri": "https://localhost:8080/",
          "height": 74
        },
        "id": "f1IUnzigQrvd",
        "outputId": "e4b03fbd-aa51-4b47-b0b4-90e9dd694035"
      },
      "execution_count": 6,
      "outputs": [
        {
          "output_type": "execute_result",
          "data": {
            "text/plain": [
              "MultinomialNB()"
            ],
            "text/html": [
              "<style>#sk-container-id-1 {color: black;background-color: white;}#sk-container-id-1 pre{padding: 0;}#sk-container-id-1 div.sk-toggleable {background-color: white;}#sk-container-id-1 label.sk-toggleable__label {cursor: pointer;display: block;width: 100%;margin-bottom: 0;padding: 0.3em;box-sizing: border-box;text-align: center;}#sk-container-id-1 label.sk-toggleable__label-arrow:before {content: \"▸\";float: left;margin-right: 0.25em;color: #696969;}#sk-container-id-1 label.sk-toggleable__label-arrow:hover:before {color: black;}#sk-container-id-1 div.sk-estimator:hover label.sk-toggleable__label-arrow:before {color: black;}#sk-container-id-1 div.sk-toggleable__content {max-height: 0;max-width: 0;overflow: hidden;text-align: left;background-color: #f0f8ff;}#sk-container-id-1 div.sk-toggleable__content pre {margin: 0.2em;color: black;border-radius: 0.25em;background-color: #f0f8ff;}#sk-container-id-1 input.sk-toggleable__control:checked~div.sk-toggleable__content {max-height: 200px;max-width: 100%;overflow: auto;}#sk-container-id-1 input.sk-toggleable__control:checked~label.sk-toggleable__label-arrow:before {content: \"▾\";}#sk-container-id-1 div.sk-estimator input.sk-toggleable__control:checked~label.sk-toggleable__label {background-color: #d4ebff;}#sk-container-id-1 div.sk-label input.sk-toggleable__control:checked~label.sk-toggleable__label {background-color: #d4ebff;}#sk-container-id-1 input.sk-hidden--visually {border: 0;clip: rect(1px 1px 1px 1px);clip: rect(1px, 1px, 1px, 1px);height: 1px;margin: -1px;overflow: hidden;padding: 0;position: absolute;width: 1px;}#sk-container-id-1 div.sk-estimator {font-family: monospace;background-color: #f0f8ff;border: 1px dotted black;border-radius: 0.25em;box-sizing: border-box;margin-bottom: 0.5em;}#sk-container-id-1 div.sk-estimator:hover {background-color: #d4ebff;}#sk-container-id-1 div.sk-parallel-item::after {content: \"\";width: 100%;border-bottom: 1px solid gray;flex-grow: 1;}#sk-container-id-1 div.sk-label:hover label.sk-toggleable__label {background-color: #d4ebff;}#sk-container-id-1 div.sk-serial::before {content: \"\";position: absolute;border-left: 1px solid gray;box-sizing: border-box;top: 0;bottom: 0;left: 50%;z-index: 0;}#sk-container-id-1 div.sk-serial {display: flex;flex-direction: column;align-items: center;background-color: white;padding-right: 0.2em;padding-left: 0.2em;position: relative;}#sk-container-id-1 div.sk-item {position: relative;z-index: 1;}#sk-container-id-1 div.sk-parallel {display: flex;align-items: stretch;justify-content: center;background-color: white;position: relative;}#sk-container-id-1 div.sk-item::before, #sk-container-id-1 div.sk-parallel-item::before {content: \"\";position: absolute;border-left: 1px solid gray;box-sizing: border-box;top: 0;bottom: 0;left: 50%;z-index: -1;}#sk-container-id-1 div.sk-parallel-item {display: flex;flex-direction: column;z-index: 1;position: relative;background-color: white;}#sk-container-id-1 div.sk-parallel-item:first-child::after {align-self: flex-end;width: 50%;}#sk-container-id-1 div.sk-parallel-item:last-child::after {align-self: flex-start;width: 50%;}#sk-container-id-1 div.sk-parallel-item:only-child::after {width: 0;}#sk-container-id-1 div.sk-dashed-wrapped {border: 1px dashed gray;margin: 0 0.4em 0.5em 0.4em;box-sizing: border-box;padding-bottom: 0.4em;background-color: white;}#sk-container-id-1 div.sk-label label {font-family: monospace;font-weight: bold;display: inline-block;line-height: 1.2em;}#sk-container-id-1 div.sk-label-container {text-align: center;}#sk-container-id-1 div.sk-container {/* jupyter's `normalize.less` sets `[hidden] { display: none; }` but bootstrap.min.css set `[hidden] { display: none !important; }` so we also need the `!important` here to be able to override the default hidden behavior on the sphinx rendered scikit-learn.org. See: https://github.com/scikit-learn/scikit-learn/issues/21755 */display: inline-block !important;position: relative;}#sk-container-id-1 div.sk-text-repr-fallback {display: none;}</style><div id=\"sk-container-id-1\" class=\"sk-top-container\"><div class=\"sk-text-repr-fallback\"><pre>MultinomialNB()</pre><b>In a Jupyter environment, please rerun this cell to show the HTML representation or trust the notebook. <br />On GitHub, the HTML representation is unable to render, please try loading this page with nbviewer.org.</b></div><div class=\"sk-container\" hidden><div class=\"sk-item\"><div class=\"sk-estimator sk-toggleable\"><input class=\"sk-toggleable__control sk-hidden--visually\" id=\"sk-estimator-id-1\" type=\"checkbox\" checked><label for=\"sk-estimator-id-1\" class=\"sk-toggleable__label sk-toggleable__label-arrow\">MultinomialNB</label><div class=\"sk-toggleable__content\"><pre>MultinomialNB()</pre></div></div></div></div></div>"
            ]
          },
          "metadata": {},
          "execution_count": 6
        }
      ]
    },
    {
      "cell_type": "code",
      "source": [
        "# Step 3: Model Evaluation - Testing Dataset\n",
        "# Read testing JSON file\n",
        "with open('/content/testdata (2).json') as file:\n",
        "    test_data = json.load(file)\n",
        "\n",
        "# Remove unwanted classes from testing data\n",
        "test_data = {class_number: lines for class_number, lines in test_data.items() if class_number not in unwanted_classes}\n",
        "\n",
        "# Extract class labels and lines from testing data\n",
        "test_classes = []\n",
        "test_lines = []\n",
        "\n",
        "for key, values in test_data.items():\n",
        "    class_number = key.strip('\"')\n",
        "    test_classes.extend([class_number] * len(values))\n",
        "    test_lines.extend(values)\n"
      ],
      "metadata": {
        "id": "3immvkAUQuhI"
      },
      "execution_count": 7,
      "outputs": []
    },
    {
      "cell_type": "code",
      "source": [
        "# Step 4: Feature Extraction - Testing Dataset\n",
        "# Convert testing lines into numerical representations\n",
        "X_test = vectorizer.transform(test_lines)\n",
        "\n",
        "# Predict using the Naive Bayes Classifier\n",
        "y_pred = nb_classifier.predict(X_test)\n"
      ],
      "metadata": {
        "id": "cuQMWCYRQyHi"
      },
      "execution_count": 8,
      "outputs": []
    },
    {
      "cell_type": "code",
      "source": [
        "# Print Classification Report and Accuracy Score\n",
        "print(classification_report(test_classes, y_pred))\n",
        "accuracy = accuracy_score(test_classes, y_pred)\n",
        "print(\"Accuracy Score:\", accuracy)\n"
      ],
      "metadata": {
        "colab": {
          "base_uri": "https://localhost:8080/"
        },
        "id": "Of9dF7b_RGD7",
        "outputId": "c5573f92-e79f-4bd2-9f6d-1e3d8a9d92ec"
      },
      "execution_count": 9,
      "outputs": [
        {
          "output_type": "stream",
          "name": "stdout",
          "text": [
            "              precision    recall  f1-score   support\n",
            "\n",
            "         001       0.66      0.70      0.68       210\n",
            "         002       1.00      0.20      0.33        61\n",
            "         003       0.86      0.77      0.81       159\n",
            "         004       0.91      0.19      0.32        52\n",
            "         005       0.75      0.83      0.79       211\n",
            "         006       0.62      0.61      0.61       163\n",
            "         007       0.65      0.74      0.69       233\n",
            "         008       0.96      0.53      0.68       100\n",
            "         009       0.39      0.97      0.55       546\n",
            "         010       0.79      0.56      0.65       185\n",
            "         011       0.79      0.55      0.65       172\n",
            "         012       0.91      0.68      0.78       155\n",
            "         013       1.00      0.05      0.09        41\n",
            "         014       0.92      0.21      0.34        57\n",
            "         015       1.00      0.15      0.27        39\n",
            "         016       0.60      0.84      0.70       288\n",
            "         017       0.72      0.23      0.35        77\n",
            "         018       0.91      0.38      0.53        80\n",
            "         019       0.79      0.49      0.60       117\n",
            "         020       0.69      0.54      0.60       157\n",
            "         021       0.57      0.69      0.62       211\n",
            "         022       0.00      0.00      0.00        42\n",
            "         023       1.00      0.14      0.25        14\n",
            "         024       0.95      0.29      0.44        62\n",
            "         025       0.87      0.61      0.72       142\n",
            "         026       1.00      0.12      0.22        57\n",
            "         027       1.00      0.04      0.08        23\n",
            "         028       0.80      0.79      0.79       211\n",
            "         029       0.79      0.81      0.80       170\n",
            "         030       0.72      0.72      0.72       178\n",
            "         031       0.96      0.60      0.74        87\n",
            "         032       0.87      0.51      0.64        51\n",
            "         033       1.00      0.16      0.27        32\n",
            "         034       1.00      0.23      0.37        31\n",
            "         035       0.53      0.93      0.68       245\n",
            "         036       1.00      0.51      0.68       115\n",
            "         037       0.67      0.94      0.78       249\n",
            "         038       1.00      0.10      0.18        52\n",
            "         039       0.88      0.27      0.42        77\n",
            "         040       0.95      0.20      0.33        89\n",
            "         041       0.77      0.75      0.76       197\n",
            "         042       0.75      0.68      0.71       190\n",
            "         043       1.00      0.07      0.14        55\n",
            "         044       0.90      0.46      0.61       121\n",
            "         045       1.00      0.13      0.23        86\n",
            "\n",
            "    accuracy                           0.64      5890\n",
            "   macro avg       0.82      0.47      0.52      5890\n",
            "weighted avg       0.74      0.64      0.62      5890\n",
            "\n",
            "Accuracy Score: 0.6404074702886248\n"
          ]
        },
        {
          "output_type": "stream",
          "name": "stderr",
          "text": [
            "/usr/local/lib/python3.10/dist-packages/sklearn/metrics/_classification.py:1344: UndefinedMetricWarning: Precision and F-score are ill-defined and being set to 0.0 in labels with no predicted samples. Use `zero_division` parameter to control this behavior.\n",
            "  _warn_prf(average, modifier, msg_start, len(result))\n",
            "/usr/local/lib/python3.10/dist-packages/sklearn/metrics/_classification.py:1344: UndefinedMetricWarning: Precision and F-score are ill-defined and being set to 0.0 in labels with no predicted samples. Use `zero_division` parameter to control this behavior.\n",
            "  _warn_prf(average, modifier, msg_start, len(result))\n",
            "/usr/local/lib/python3.10/dist-packages/sklearn/metrics/_classification.py:1344: UndefinedMetricWarning: Precision and F-score are ill-defined and being set to 0.0 in labels with no predicted samples. Use `zero_division` parameter to control this behavior.\n",
            "  _warn_prf(average, modifier, msg_start, len(result))\n"
          ]
        }
      ]
    },
    {
      "cell_type": "code",
      "source": [
        "# Step 5: Prediction\n",
        "query = \"i need a trademark for my new fried chicken\"\n",
        "preprocessed_query = vectorizer.transform([query])\n",
        "predicted_class = nb_classifier.predict(preprocessed_query)\n",
        "print(\"Predicted Class:\", predicted_class[0])"
      ],
      "metadata": {
        "colab": {
          "base_uri": "https://localhost:8080/"
        },
        "id": "u1ym1WL3RIHe",
        "outputId": "f5ff9732-ea82-4d60-b761-7cf35336e54c"
      },
      "execution_count": 13,
      "outputs": [
        {
          "output_type": "stream",
          "name": "stdout",
          "text": [
            "Predicted Class: 029\n"
          ]
        }
      ]
    },
    {
      "cell_type": "code",
      "source": [],
      "metadata": {
        "id": "tN1xFQ4uRLa7"
      },
      "execution_count": null,
      "outputs": []
    }
  ]
}