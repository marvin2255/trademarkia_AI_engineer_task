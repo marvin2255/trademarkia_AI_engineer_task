{
 "cells": [
  {
   "cell_type": "code",
   "execution_count": 11,
   "id": "4410ffe8",
   "metadata": {},
   "outputs": [],
   "source": [
    "import json\n",
    "from sklearn.feature_extraction.text import TfidfVectorizer\n",
    "from sklearn.ensemble import RandomForestClassifier\n",
    "from sklearn.metrics import classification_report, accuracy_score"
   ]
  },
  {
   "cell_type": "code",
   "execution_count": 12,
   "id": "e4c792af",
   "metadata": {},
   "outputs": [],
   "source": [
    "# Step 1: Data Preprocessing - Training Dataset\n",
    "# Read training JSON file\n",
    "with open('traindata (2).json') as file:\n",
    "    train_data = json.load(file)"
   ]
  },
  {
   "cell_type": "code",
   "execution_count": 14,
   "id": "d33e47d9",
   "metadata": {},
   "outputs": [],
   "source": [
    "# Remove unwanted classes from training data\n",
    "unwanted_classes = [\"000\", \"200\", \"B\",\"A\"]\n",
    "train_data = {class_number: lines for class_number, lines in train_data.items() if class_number not in unwanted_classes}"
   ]
  },
  {
   "cell_type": "code",
   "execution_count": 15,
   "id": "ab035a0a",
   "metadata": {},
   "outputs": [],
   "source": [
    "# Extract class labels and lines from training data\n",
    "train_classes = []\n",
    "train_lines = []\n",
    "\n",
    "for key, values in train_data.items():\n",
    "    class_number = key.strip('\"')\n",
    "    train_classes.extend([class_number] * len(values))\n",
    "    train_lines.extend(values)\n"
   ]
  },
  {
   "cell_type": "code",
   "execution_count": 16,
   "id": "87c8da30",
   "metadata": {},
   "outputs": [
    {
     "data": {
      "text/plain": [
       "RandomForestClassifier()"
      ]
     },
     "execution_count": 16,
     "metadata": {},
     "output_type": "execute_result"
    }
   ],
   "source": [
    "# Step 2: Feature Extraction - Training Dataset\n",
    "# Convert training lines into numerical representations\n",
    "vectorizer = TfidfVectorizer()\n",
    "X_train = vectorizer.fit_transform(train_lines)\n",
    "\n",
    "# Train the Random Forest Model\n",
    "rf_model = RandomForestClassifier()\n",
    "rf_model.fit(X_train, train_classes)"
   ]
  },
  {
   "cell_type": "code",
   "execution_count": 17,
   "id": "318b243f",
   "metadata": {},
   "outputs": [],
   "source": [
    "# Step 3: Model Evaluation - Testing Dataset\n",
    "# Read testing JSON file\n",
    "with open('testdata (2).json') as file:\n",
    "    test_data = json.load(file)\n",
    "\n",
    "# Remove unwanted classes from testing data\n",
    "test_data = {class_number: lines for class_number, lines in test_data.items() if class_number not in unwanted_classes}\n",
    "\n",
    "# Extract class labels and lines from testing data\n",
    "test_classes = []\n",
    "test_lines = []\n",
    "\n",
    "for key, values in test_data.items():\n",
    "    class_number = key.strip('\"')\n",
    "    test_classes.extend([class_number] * len(values))\n",
    "    test_lines.extend(values)"
   ]
  },
  {
   "cell_type": "code",
   "execution_count": 18,
   "id": "5f8e46f5",
   "metadata": {},
   "outputs": [
    {
     "name": "stdout",
     "output_type": "stream",
     "text": [
      "              precision    recall  f1-score   support\n",
      "\n",
      "         001       0.75      0.70      0.73       210\n",
      "         002       0.85      0.82      0.83        61\n",
      "         003       0.73      0.75      0.74       159\n",
      "         004       0.82      0.69      0.75        52\n",
      "         005       0.80      0.74      0.77       211\n",
      "         006       0.81      0.87      0.83       163\n",
      "         007       0.82      0.80      0.81       233\n",
      "         008       0.86      0.75      0.80       100\n",
      "         009       0.55      0.87      0.67       546\n",
      "         010       0.73      0.69      0.71       185\n",
      "         011       0.80      0.68      0.73       172\n",
      "         012       0.84      0.78      0.81       155\n",
      "         013       0.81      0.61      0.69        41\n",
      "         014       0.69      0.54      0.61        57\n",
      "         015       0.80      0.62      0.70        39\n",
      "         016       0.82      0.82      0.82       288\n",
      "         017       0.84      0.64      0.73        77\n",
      "         018       0.69      0.69      0.69        80\n",
      "         019       0.69      0.71      0.70       117\n",
      "         020       0.70      0.68      0.69       157\n",
      "         021       0.71      0.57      0.63       211\n",
      "         022       0.83      0.45      0.58        42\n",
      "         023       0.78      1.00      0.88        14\n",
      "         024       0.81      0.84      0.83        62\n",
      "         025       0.87      0.73      0.79       142\n",
      "         026       0.74      0.56      0.64        57\n",
      "         027       0.77      0.74      0.76        23\n",
      "         028       0.80      0.80      0.80       211\n",
      "         029       0.79      0.84      0.81       170\n",
      "         030       0.73      0.67      0.70       178\n",
      "         031       0.87      0.86      0.87        87\n",
      "         032       0.85      0.90      0.88        51\n",
      "         033       0.96      0.69      0.80        32\n",
      "         034       0.93      0.90      0.92        31\n",
      "         035       0.77      0.79      0.78       245\n",
      "         036       0.93      0.78      0.85       115\n",
      "         037       0.87      0.90      0.89       249\n",
      "         038       0.87      0.77      0.82        52\n",
      "         039       0.70      0.66      0.68        77\n",
      "         040       0.70      0.63      0.66        89\n",
      "         041       0.80      0.81      0.80       197\n",
      "         042       0.80      0.76      0.78       190\n",
      "         043       0.78      0.58      0.67        55\n",
      "         044       0.63      0.64      0.64       121\n",
      "         045       0.72      0.50      0.59        86\n",
      "\n",
      "    accuracy                           0.75      5890\n",
      "   macro avg       0.79      0.73      0.75      5890\n",
      "weighted avg       0.77      0.75      0.75      5890\n",
      "\n",
      "Accuracy Score: 0.7521222410865874\n"
     ]
    }
   ],
   "source": [
    "# Step 4: Feature Extraction - Testing Dataset\n",
    "# Convert testing lines into numerical representations\n",
    "X_test = vectorizer.transform(test_lines)\n",
    "\n",
    "# Predict using the Random Forest Model\n",
    "y_pred = rf_model.predict(X_test)\n",
    "\n",
    "# Print Classification Report and Accuracy Score\n",
    "print(classification_report(test_classes, y_pred))\n",
    "accuracy = accuracy_score(test_classes, y_pred)\n",
    "print(\"Accuracy Score:\", accuracy)"
   ]
  },
  {
   "cell_type": "code",
   "execution_count": 24,
   "id": "e25194d4",
   "metadata": {},
   "outputs": [
    {
     "name": "stdout",
     "output_type": "stream",
     "text": [
      "Predicted Class: 032\n"
     ]
    }
   ],
   "source": [
    "# Step 5: Prediction\n",
    "query = \" i need a patent for mynew beer\"\n",
    "preprocessed_query = vectorizer.transform([query])\n",
    "predicted_class = rf_model.predict(preprocessed_query)\n",
    "print(\"Predicted Class:\", predicted_class[0])"
   ]
  },
  {
   "cell_type": "code",
   "execution_count": null,
   "id": "93a8054b",
   "metadata": {},
   "outputs": [],
   "source": []
  }
 ],
 "metadata": {
  "kernelspec": {
   "display_name": "Python 3 (ipykernel)",
   "language": "python",
   "name": "python3"
  },
  "language_info": {
   "codemirror_mode": {
    "name": "ipython",
    "version": 3
   },
   "file_extension": ".py",
   "mimetype": "text/x-python",
   "name": "python",
   "nbconvert_exporter": "python",
   "pygments_lexer": "ipython3",
   "version": "3.9.13"
  }
 },
 "nbformat": 4,
 "nbformat_minor": 5
}
