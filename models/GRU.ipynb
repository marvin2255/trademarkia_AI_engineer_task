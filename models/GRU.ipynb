{
 "cells": [
  {
   "cell_type": "code",
   "execution_count": 11,
   "id": "2a0d3771",
   "metadata": {},
   "outputs": [],
   "source": [
    "import json\n",
    "import numpy as np\n",
    "from tensorflow.keras.models import Sequential\n",
    "from tensorflow.keras.layers import Embedding, GRU, Dense\n",
    "from tensorflow.keras.preprocessing.text import Tokenizer\n",
    "from tensorflow.keras.preprocessing.sequence import pad_sequences\n",
    "from tensorflow.keras.callbacks import EarlyStopping\n",
    "import joblib\n"
   ]
  },
  {
   "cell_type": "code",
   "execution_count": 2,
   "id": "b007f009",
   "metadata": {},
   "outputs": [],
   "source": [
    "# Load and preprocess the data\n",
    "with open(\"idmanual (1).json\") as f:  # Replace \"your_data.json\" with your JSON file path\n",
    "    data = json.load(f)\n",
    "\n",
    "texts = []\n",
    "labels = []\n",
    "\n",
    "for entry in data:\n",
    "    texts.append(entry['description'])\n",
    "    labels.append(entry['class_id'])\n",
    "\n",
    "texts = np.array(texts)\n",
    "labels = np.array(labels)"
   ]
  },
  {
   "cell_type": "code",
   "execution_count": 3,
   "id": "37a34647",
   "metadata": {},
   "outputs": [],
   "source": [
    "# Tokenize the text\n",
    "tokenizer = Tokenizer()\n",
    "tokenizer.fit_on_texts(texts)\n",
    "sequences = tokenizer.texts_to_sequences(texts)"
   ]
  },
  {
   "cell_type": "code",
   "execution_count": 4,
   "id": "d228ddbf",
   "metadata": {},
   "outputs": [],
   "source": [
    "# Pad sequences\n",
    "max_seq_length = 100  # Replace with your desired sequence length\n",
    "sequences = pad_sequences(sequences, maxlen=max_seq_length)"
   ]
  },
  {
   "cell_type": "code",
   "execution_count": 5,
   "id": "c501b711",
   "metadata": {},
   "outputs": [],
   "source": [
    "# Convert labels to integer format\n",
    "label_to_id = {label: idx for idx, label in enumerate(np.unique(labels))}\n",
    "id_to_label = {idx: label for label, idx in label_to_id.items()}\n",
    "labels = np.array([label_to_id[label] for label in labels])"
   ]
  },
  {
   "cell_type": "code",
   "execution_count": null,
   "id": "82164248",
   "metadata": {},
   "outputs": [],
   "source": [
    "# Define early stopping callback\n",
    "early_stopping = EarlyStopping(patience=2, restore_best_weights=True)"
   ]
  },
  {
   "cell_type": "code",
   "execution_count": 6,
   "id": "7d181af4",
   "metadata": {},
   "outputs": [],
   "source": [
    "# Define the GRU model\n",
    "embedding_dim = 100  # Replace with your desired embedding dimension\n",
    "num_classes = len(np.unique(labels))\n",
    "model = Sequential()\n",
    "model.add(Embedding(input_dim=len(tokenizer.word_index) + 1, output_dim=embedding_dim, input_length=max_seq_length))\n",
    "model.add(GRU(128))\n",
    "model.add(Dense(num_classes, activation='softmax'))\n",
    "model.compile(loss='sparse_categorical_crossentropy', optimizer='adam', metrics=['accuracy'])"
   ]
  },
  {
   "cell_type": "code",
   "execution_count": 7,
   "id": "9dfe973a",
   "metadata": {},
   "outputs": [
    {
     "name": "stdout",
     "output_type": "stream",
     "text": [
      "Epoch 1/10\n",
      "1835/1835 [==============================] - ETA: 0s - loss: 1.6010 - accuracy: 0.5738WARNING:tensorflow:Early stopping conditioned on metric `val_loss` which is not available. Available metrics are: loss,accuracy\n",
      "1835/1835 [==============================] - 130s 70ms/step - loss: 1.6010 - accuracy: 0.5738\n",
      "Epoch 2/10\n",
      "1835/1835 [==============================] - ETA: 0s - loss: 0.4693 - accuracy: 0.8703WARNING:tensorflow:Early stopping conditioned on metric `val_loss` which is not available. Available metrics are: loss,accuracy\n",
      "1835/1835 [==============================] - 124s 68ms/step - loss: 0.4693 - accuracy: 0.8703\n",
      "Epoch 3/10\n",
      "1835/1835 [==============================] - ETA: 0s - loss: 0.2194 - accuracy: 0.9376WARNING:tensorflow:Early stopping conditioned on metric `val_loss` which is not available. Available metrics are: loss,accuracy\n",
      "1835/1835 [==============================] - 131s 72ms/step - loss: 0.2194 - accuracy: 0.9376\n",
      "Epoch 4/10\n",
      "1835/1835 [==============================] - ETA: 0s - loss: 0.1281 - accuracy: 0.9629WARNING:tensorflow:Early stopping conditioned on metric `val_loss` which is not available. Available metrics are: loss,accuracy\n",
      "1835/1835 [==============================] - 128s 70ms/step - loss: 0.1281 - accuracy: 0.9629\n",
      "Epoch 5/10\n",
      "1835/1835 [==============================] - ETA: 0s - loss: 0.0855 - accuracy: 0.9750WARNING:tensorflow:Early stopping conditioned on metric `val_loss` which is not available. Available metrics are: loss,accuracy\n",
      "1835/1835 [==============================] - 125s 68ms/step - loss: 0.0855 - accuracy: 0.9750\n",
      "Epoch 6/10\n",
      "1835/1835 [==============================] - ETA: 0s - loss: 0.0596 - accuracy: 0.9827WARNING:tensorflow:Early stopping conditioned on metric `val_loss` which is not available. Available metrics are: loss,accuracy\n",
      "1835/1835 [==============================] - 131s 71ms/step - loss: 0.0596 - accuracy: 0.9827\n",
      "Epoch 7/10\n",
      "1835/1835 [==============================] - ETA: 0s - loss: 0.0453 - accuracy: 0.9864WARNING:tensorflow:Early stopping conditioned on metric `val_loss` which is not available. Available metrics are: loss,accuracy\n",
      "1835/1835 [==============================] - 130s 71ms/step - loss: 0.0453 - accuracy: 0.9864\n",
      "Epoch 8/10\n",
      "1835/1835 [==============================] - ETA: 0s - loss: 0.0354 - accuracy: 0.9903WARNING:tensorflow:Early stopping conditioned on metric `val_loss` which is not available. Available metrics are: loss,accuracy\n",
      "1835/1835 [==============================] - 124s 68ms/step - loss: 0.0354 - accuracy: 0.9903\n",
      "Epoch 9/10\n",
      "1835/1835 [==============================] - ETA: 0s - loss: 0.0277 - accuracy: 0.9924WARNING:tensorflow:Early stopping conditioned on metric `val_loss` which is not available. Available metrics are: loss,accuracy\n",
      "1835/1835 [==============================] - 123s 67ms/step - loss: 0.0277 - accuracy: 0.9924\n",
      "Epoch 10/10\n",
      "1835/1835 [==============================] - ETA: 0s - loss: 0.0231 - accuracy: 0.9939WARNING:tensorflow:Early stopping conditioned on metric `val_loss` which is not available. Available metrics are: loss,accuracy\n",
      "1835/1835 [==============================] - 133s 73ms/step - loss: 0.0231 - accuracy: 0.9939\n"
     ]
    },
    {
     "data": {
      "text/plain": [
       "<keras.callbacks.History at 0x1edd30d5520>"
      ]
     },
     "execution_count": 7,
     "metadata": {},
     "output_type": "execute_result"
    }
   ],
   "source": [
    "# Define early stopping callback\n",
    "early_stopping = EarlyStopping(patience=3, restore_best_weights=True)\n",
    "\n",
    "# Train the model\n",
    "model.fit(sequences, labels, epochs=10, batch_size=32, verbose=1, callbacks=[early_stopping])"
   ]
  },
  {
   "cell_type": "code",
   "execution_count": 8,
   "id": "f650e824",
   "metadata": {},
   "outputs": [
    {
     "name": "stdout",
     "output_type": "stream",
     "text": [
      "1835/1835 [==============================] - 30s 16ms/step - loss: 0.0150 - accuracy: 0.9961\n",
      "Accuracy: 0.9960648417472839\n"
     ]
    }
   ],
   "source": [
    "# Evaluate the model on the entire dataset\n",
    "loss, accuracy = model.evaluate(sequences, labels)\n",
    "print(f'Accuracy: {accuracy}')"
   ]
  },
  {
   "cell_type": "code",
   "execution_count": 9,
   "id": "457b4f35",
   "metadata": {},
   "outputs": [
    {
     "name": "stdout",
     "output_type": "stream",
     "text": [
      "1835/1835 [==============================] - 29s 16ms/step\n"
     ]
    }
   ],
   "source": [
    "# Convert the predicted labels back to their original string format\n",
    "y_pred = np.argmax(model.predict(sequences), axis=-1)\n",
    "predicted_labels = np.array([id_to_label[pred] for pred in y_pred])"
   ]
  },
  {
   "cell_type": "code",
   "execution_count": 12,
   "id": "8553bedd",
   "metadata": {},
   "outputs": [
    {
     "name": "stdout",
     "output_type": "stream",
     "text": [
      "Keras weights file (<HDF5 file \"variables.h5\" (mode r+)>) saving:\n",
      "...layers\\dense\n",
      "......vars\n",
      ".........0\n",
      ".........1\n",
      "...layers\\embedding\n",
      "......vars\n",
      ".........0\n",
      "...layers\\gru\n",
      "......vars\n",
      "...layers\\gru\\cell\n",
      "......vars\n",
      ".........0\n",
      ".........1\n",
      ".........2\n",
      "...metrics\\mean\n",
      "......vars\n",
      ".........0\n",
      ".........1\n",
      "...metrics\\mean_metric_wrapper\n",
      "......vars\n",
      ".........0\n",
      ".........1\n",
      "...optimizer\n",
      "......vars\n",
      ".........0\n",
      ".........1\n",
      ".........10\n",
      ".........11\n",
      ".........12\n",
      ".........2\n",
      ".........3\n",
      ".........4\n",
      ".........5\n",
      ".........6\n",
      ".........7\n",
      ".........8\n",
      ".........9\n",
      "...vars\n",
      "Keras model archive saving:\n",
      "File Name                                             Modified             Size\n",
      "config.json                                    2023-05-25 11:14:32         2211\n",
      "metadata.json                                  2023-05-25 11:14:32           64\n",
      "variables.h5                                   2023-05-25 11:14:32     22844592\n"
     ]
    },
    {
     "data": {
      "text/plain": [
       "['trained_model.joblib']"
      ]
     },
     "execution_count": 12,
     "metadata": {},
     "output_type": "execute_result"
    }
   ],
   "source": [
    "# Save the model\n",
    "joblib.dump(model, 'trained_model.joblib')"
   ]
  },
  {
   "cell_type": "code",
   "execution_count": 14,
   "id": "61d2a2dc",
   "metadata": {},
   "outputs": [
    {
     "name": "stdout",
     "output_type": "stream",
     "text": [
      "Enter a description:  i have new drug composition\n",
      "1/1 [==============================] - 0s 15ms/step\n",
      "Predicted Class: 042\n"
     ]
    }
   ],
   "source": [
    "# Take user input and make predictions\n",
    "user_input = input(\"Enter a description: \")\n",
    "user_sequence = tokenizer.texts_to_sequences([user_input])\n",
    "user_sequence = pad_sequences(user_sequence, maxlen=max_seq_length)\n",
    "prediction = model.predict(user_sequence)\n",
    "predicted_class_id = np.argmax(prediction)\n",
    "predicted_class_label = id_to_label[predicted_class_id]\n",
    "print(f'Predicted Class: {predicted_class_label}')"
   ]
  },
  {
   "cell_type": "code",
   "execution_count": null,
   "id": "b45d20db",
   "metadata": {},
   "outputs": [],
   "source": []
  }
 ],
 "metadata": {
  "kernelspec": {
   "display_name": "Python 3 (ipykernel)",
   "language": "python",
   "name": "python3"
  },
  "language_info": {
   "codemirror_mode": {
    "name": "ipython",
    "version": 3
   },
   "file_extension": ".py",
   "mimetype": "text/x-python",
   "name": "python",
   "nbconvert_exporter": "python",
   "pygments_lexer": "ipython3",
   "version": "3.9.13"
  }
 },
 "nbformat": 4,
 "nbformat_minor": 5
}
