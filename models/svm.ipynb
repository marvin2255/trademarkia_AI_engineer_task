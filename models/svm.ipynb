{
  "nbformat": 4,
  "nbformat_minor": 0,
  "metadata": {
    "colab": {
      "provenance": []
    },
    "kernelspec": {
      "name": "python3",
      "display_name": "Python 3"
    },
    "language_info": {
      "name": "python"
    }
  },
  "cells": [
    {
      "cell_type": "code",
      "execution_count": 1,
      "metadata": {
        "id": "Zl2tOcjJvm9Q"
      },
      "outputs": [],
      "source": [
        "import json\n",
        "import numpy as np\n",
        "import matplotlib.pyplot as plt\n",
        "from sklearn.feature_extraction.text import TfidfVectorizer\n",
        "from sklearn.svm import SVC\n",
        "from sklearn.metrics import classification_report, accuracy_score, confusion_matrix"
      ]
    },
    {
      "cell_type": "code",
      "source": [
        "# Step 1: Data Preprocessing - Training Dataset\n",
        "# Read training JSON file\n",
        "with open('/content/traindata (2).json') as file:\n",
        "    train_data = json.load(file)\n",
        "\n",
        "# Remove unwanted classes from training data\n",
        "unwanted_classes = [\"000\", \"200\", \"B\",\"A\"]\n",
        "train_data = {class_number: lines for class_number, lines in train_data.items() if class_number not in unwanted_classes}\n",
        "\n",
        "# Extract class labels and lines from training data\n",
        "train_classes = []\n",
        "train_lines = []\n",
        "\n",
        "for key, values in train_data.items():\n",
        "    class_number = key.strip('\"')\n",
        "    train_classes.extend([class_number] * len(values))\n",
        "    train_lines.extend(values)\n"
      ],
      "metadata": {
        "id": "LNsZA9pHvp3P"
      },
      "execution_count": 3,
      "outputs": []
    },
    {
      "cell_type": "code",
      "source": [
        "# Step 2: Feature Extraction - Training Dataset\n",
        "# Convert training lines into numerical representations\n",
        "vectorizer = TfidfVectorizer()\n",
        "X_train = vectorizer.fit_transform(train_lines)\n",
        "\n",
        "# Train the SVM Model\n",
        "svm_model = SVC()\n",
        "svm_model.fit(X_train, train_classes)\n"
      ],
      "metadata": {
        "colab": {
          "base_uri": "https://localhost:8080/",
          "height": 74
        },
        "id": "bC9GOdun0GMe",
        "outputId": "6f646a98-eea9-4f34-bf08-40f426bd86bc"
      },
      "execution_count": 4,
      "outputs": [
        {
          "output_type": "execute_result",
          "data": {
            "text/plain": [
              "SVC()"
            ],
            "text/html": [
              "<style>#sk-container-id-1 {color: black;background-color: white;}#sk-container-id-1 pre{padding: 0;}#sk-container-id-1 div.sk-toggleable {background-color: white;}#sk-container-id-1 label.sk-toggleable__label {cursor: pointer;display: block;width: 100%;margin-bottom: 0;padding: 0.3em;box-sizing: border-box;text-align: center;}#sk-container-id-1 label.sk-toggleable__label-arrow:before {content: \"▸\";float: left;margin-right: 0.25em;color: #696969;}#sk-container-id-1 label.sk-toggleable__label-arrow:hover:before {color: black;}#sk-container-id-1 div.sk-estimator:hover label.sk-toggleable__label-arrow:before {color: black;}#sk-container-id-1 div.sk-toggleable__content {max-height: 0;max-width: 0;overflow: hidden;text-align: left;background-color: #f0f8ff;}#sk-container-id-1 div.sk-toggleable__content pre {margin: 0.2em;color: black;border-radius: 0.25em;background-color: #f0f8ff;}#sk-container-id-1 input.sk-toggleable__control:checked~div.sk-toggleable__content {max-height: 200px;max-width: 100%;overflow: auto;}#sk-container-id-1 input.sk-toggleable__control:checked~label.sk-toggleable__label-arrow:before {content: \"▾\";}#sk-container-id-1 div.sk-estimator input.sk-toggleable__control:checked~label.sk-toggleable__label {background-color: #d4ebff;}#sk-container-id-1 div.sk-label input.sk-toggleable__control:checked~label.sk-toggleable__label {background-color: #d4ebff;}#sk-container-id-1 input.sk-hidden--visually {border: 0;clip: rect(1px 1px 1px 1px);clip: rect(1px, 1px, 1px, 1px);height: 1px;margin: -1px;overflow: hidden;padding: 0;position: absolute;width: 1px;}#sk-container-id-1 div.sk-estimator {font-family: monospace;background-color: #f0f8ff;border: 1px dotted black;border-radius: 0.25em;box-sizing: border-box;margin-bottom: 0.5em;}#sk-container-id-1 div.sk-estimator:hover {background-color: #d4ebff;}#sk-container-id-1 div.sk-parallel-item::after {content: \"\";width: 100%;border-bottom: 1px solid gray;flex-grow: 1;}#sk-container-id-1 div.sk-label:hover label.sk-toggleable__label {background-color: #d4ebff;}#sk-container-id-1 div.sk-serial::before {content: \"\";position: absolute;border-left: 1px solid gray;box-sizing: border-box;top: 0;bottom: 0;left: 50%;z-index: 0;}#sk-container-id-1 div.sk-serial {display: flex;flex-direction: column;align-items: center;background-color: white;padding-right: 0.2em;padding-left: 0.2em;position: relative;}#sk-container-id-1 div.sk-item {position: relative;z-index: 1;}#sk-container-id-1 div.sk-parallel {display: flex;align-items: stretch;justify-content: center;background-color: white;position: relative;}#sk-container-id-1 div.sk-item::before, #sk-container-id-1 div.sk-parallel-item::before {content: \"\";position: absolute;border-left: 1px solid gray;box-sizing: border-box;top: 0;bottom: 0;left: 50%;z-index: -1;}#sk-container-id-1 div.sk-parallel-item {display: flex;flex-direction: column;z-index: 1;position: relative;background-color: white;}#sk-container-id-1 div.sk-parallel-item:first-child::after {align-self: flex-end;width: 50%;}#sk-container-id-1 div.sk-parallel-item:last-child::after {align-self: flex-start;width: 50%;}#sk-container-id-1 div.sk-parallel-item:only-child::after {width: 0;}#sk-container-id-1 div.sk-dashed-wrapped {border: 1px dashed gray;margin: 0 0.4em 0.5em 0.4em;box-sizing: border-box;padding-bottom: 0.4em;background-color: white;}#sk-container-id-1 div.sk-label label {font-family: monospace;font-weight: bold;display: inline-block;line-height: 1.2em;}#sk-container-id-1 div.sk-label-container {text-align: center;}#sk-container-id-1 div.sk-container {/* jupyter's `normalize.less` sets `[hidden] { display: none; }` but bootstrap.min.css set `[hidden] { display: none !important; }` so we also need the `!important` here to be able to override the default hidden behavior on the sphinx rendered scikit-learn.org. See: https://github.com/scikit-learn/scikit-learn/issues/21755 */display: inline-block !important;position: relative;}#sk-container-id-1 div.sk-text-repr-fallback {display: none;}</style><div id=\"sk-container-id-1\" class=\"sk-top-container\"><div class=\"sk-text-repr-fallback\"><pre>SVC()</pre><b>In a Jupyter environment, please rerun this cell to show the HTML representation or trust the notebook. <br />On GitHub, the HTML representation is unable to render, please try loading this page with nbviewer.org.</b></div><div class=\"sk-container\" hidden><div class=\"sk-item\"><div class=\"sk-estimator sk-toggleable\"><input class=\"sk-toggleable__control sk-hidden--visually\" id=\"sk-estimator-id-1\" type=\"checkbox\" checked><label for=\"sk-estimator-id-1\" class=\"sk-toggleable__label sk-toggleable__label-arrow\">SVC</label><div class=\"sk-toggleable__content\"><pre>SVC()</pre></div></div></div></div></div>"
            ]
          },
          "metadata": {},
          "execution_count": 4
        }
      ]
    },
    {
      "cell_type": "code",
      "source": [
        "# Step 3: Model Evaluation - Testing Dataset\n",
        "# Read testing JSON file\n",
        "with open('/content/testdata (2).json') as file:\n",
        "    test_data = json.load(file)\n",
        "\n",
        "# Remove unwanted classes from testing data\n",
        "test_data = {class_number: lines for class_number, lines in test_data.items() if class_number not in unwanted_classes}\n",
        "\n",
        "# Extract class labels and lines from testing data\n",
        "test_classes = []\n",
        "test_lines = []\n",
        "\n",
        "for key, values in test_data.items():\n",
        "    class_number = key.strip('\"')\n",
        "    test_classes.extend([class_number] * len(values))\n",
        "    test_lines.extend(values)"
      ],
      "metadata": {
        "id": "b12Yk3-3wEYU"
      },
      "execution_count": 5,
      "outputs": []
    },
    {
      "cell_type": "code",
      "source": [
        "# Step 4: Feature Extraction - Testing Dataset\n",
        "# Convert testing lines into numerical representations\n",
        "X_test = vectorizer.transform(test_lines)\n",
        "\n",
        "# Predict using the SVM Model\n",
        "y_pred = svm_model.predict(X_test)\n",
        "\n",
        "# Print Classification Report and Accuracy Score\n",
        "print(classification_report(test_classes, y_pred))\n",
        "accuracy = accuracy_score(test_classes, y_pred)\n",
        "print(\"Accuracy Score:\", accuracy)"
      ],
      "metadata": {
        "colab": {
          "base_uri": "https://localhost:8080/"
        },
        "id": "A8qbdxCowKqn",
        "outputId": "c792ab1b-e2f1-4dbf-d8d0-ffbba0980f39"
      },
      "execution_count": 6,
      "outputs": [
        {
          "output_type": "stream",
          "name": "stdout",
          "text": [
            "              precision    recall  f1-score   support\n",
            "\n",
            "         001       0.77      0.77      0.77       210\n",
            "         002       0.98      0.84      0.90        61\n",
            "         003       0.89      0.86      0.88       159\n",
            "         004       0.81      0.88      0.84        52\n",
            "         005       0.88      0.86      0.87       211\n",
            "         006       0.82      0.83      0.83       163\n",
            "         007       0.87      0.85      0.86       233\n",
            "         008       0.92      0.80      0.86       100\n",
            "         009       0.57      0.89      0.69       546\n",
            "         010       0.85      0.79      0.82       185\n",
            "         011       0.82      0.77      0.79       172\n",
            "         012       0.91      0.89      0.90       155\n",
            "         013       0.81      0.73      0.77        41\n",
            "         014       0.80      0.63      0.71        57\n",
            "         015       0.84      0.69      0.76        39\n",
            "         016       0.90      0.86      0.88       288\n",
            "         017       0.82      0.65      0.72        77\n",
            "         018       0.87      0.76      0.81        80\n",
            "         019       0.85      0.79      0.82       117\n",
            "         020       0.79      0.75      0.76       157\n",
            "         021       0.80      0.72      0.76       211\n",
            "         022       0.93      0.60      0.72        42\n",
            "         023       0.78      1.00      0.88        14\n",
            "         024       0.85      0.81      0.83        62\n",
            "         025       0.90      0.78      0.84       142\n",
            "         026       0.84      0.65      0.73        57\n",
            "         027       0.85      1.00      0.92        23\n",
            "         028       0.88      0.85      0.86       211\n",
            "         029       0.88      0.82      0.85       170\n",
            "         030       0.76      0.78      0.77       178\n",
            "         031       0.89      0.89      0.89        87\n",
            "         032       0.95      0.82      0.88        51\n",
            "         033       1.00      0.69      0.81        32\n",
            "         034       0.91      0.97      0.94        31\n",
            "         035       0.84      0.88      0.86       245\n",
            "         036       0.94      0.79      0.86       115\n",
            "         037       0.93      0.91      0.92       249\n",
            "         038       1.00      0.87      0.93        52\n",
            "         039       0.83      0.83      0.83        77\n",
            "         040       0.85      0.72      0.78        89\n",
            "         041       0.88      0.89      0.89       197\n",
            "         042       0.89      0.83      0.86       190\n",
            "         043       0.93      0.71      0.80        55\n",
            "         044       0.81      0.76      0.79       121\n",
            "         045       0.95      0.69      0.80        86\n",
            "\n",
            "    accuracy                           0.82      5890\n",
            "   macro avg       0.86      0.80      0.83      5890\n",
            "weighted avg       0.84      0.82      0.82      5890\n",
            "\n",
            "Accuracy Score: 0.8191850594227504\n"
          ]
        }
      ]
    },
    {
      "cell_type": "code",
      "source": [
        "# Step 5: Prediction\n",
        "query =input()\n",
        "preprocessed_query = vectorizer.transform([query])\n",
        "predicted_class = svm_model.predict(preprocessed_query)\n",
        "print(\"Predicted Class:\", predicted_class[0])"
      ],
      "metadata": {
        "colab": {
          "base_uri": "https://localhost:8080/"
        },
        "id": "j5v5N3iK_r-7",
        "outputId": "96c74467-8e59-4727-a09a-49237f0616b7"
      },
      "execution_count": 13,
      "outputs": [
        {
          "output_type": "stream",
          "name": "stdout",
          "text": [
            "i need trademark for my chicken fry\n",
            "Predicted Class: 029\n"
          ]
        }
      ]
    },
    {
      "cell_type": "code",
      "source": [],
      "metadata": {
        "id": "YvLXUp114ZoE"
      },
      "execution_count": 12,
      "outputs": []
    }
  ]
}