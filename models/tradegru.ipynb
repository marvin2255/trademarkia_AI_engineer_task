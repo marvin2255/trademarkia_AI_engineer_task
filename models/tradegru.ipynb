{
 "cells": [
  {
   "cell_type": "code",
   "execution_count": 28,
   "id": "5fd40249",
   "metadata": {},
   "outputs": [],
   "source": [
    "import json\n",
    "import numpy as np\n",
    "from tensorflow.keras.models import Sequential\n",
    "from tensorflow.keras.layers import Embedding, GRU, Dense\n",
    "from tensorflow.keras.preprocessing.text import Tokenizer\n",
    "from tensorflow.keras.preprocessing.sequence import pad_sequences\n",
    "from tensorflow.keras.callbacks import EarlyStopping\n",
    "import joblib\n",
    "from tensorflow.keras.models import load_model\n"
   ]
  },
  {
   "cell_type": "code",
   "execution_count": 14,
   "id": "4ac4673b",
   "metadata": {},
   "outputs": [],
   "source": [
    "# Load and preprocess the data\n",
    "with open(\"idmanual (1).json\") as f:  # Replace \"your_data.json\" with your JSON file path\n",
    "    data = json.load(f)\n",
    "\n",
    "texts = []\n",
    "labels = []\n",
    "\n",
    "for entry in data:\n",
    "    texts.append(entry['description'])\n",
    "    labels.append(entry['class_id'])\n",
    "\n",
    "texts = np.array(texts)\n",
    "labels = np.array(labels)"
   ]
  },
  {
   "cell_type": "code",
   "execution_count": 15,
   "id": "f6308892",
   "metadata": {},
   "outputs": [],
   "source": [
    "# Tokenize the text\n",
    "tokenizer = Tokenizer()\n",
    "tokenizer.fit_on_texts(texts)\n",
    "sequences = tokenizer.texts_to_sequences(texts)"
   ]
  },
  {
   "cell_type": "code",
   "execution_count": 16,
   "id": "cf2229ae",
   "metadata": {},
   "outputs": [],
   "source": [
    "# Pad sequences\n",
    "max_seq_length = 100  # Replace with your desired sequence length\n",
    "sequences = pad_sequences(sequences, maxlen=max_seq_length)"
   ]
  },
  {
   "cell_type": "code",
   "execution_count": 17,
   "id": "929db181",
   "metadata": {},
   "outputs": [],
   "source": [
    "# Convert labels to integer format\n",
    "label_to_id = {label: idx for idx, label in enumerate(np.unique(labels))}\n",
    "id_to_label = {idx: label for label, idx in label_to_id.items()}\n",
    "labels = np.array([label_to_id[label] for label in labels])"
   ]
  },
  {
   "cell_type": "code",
   "execution_count": 18,
   "id": "9c2d1e04",
   "metadata": {},
   "outputs": [],
   "source": [
    "# Define early stopping callback\n",
    "early_stopping = EarlyStopping(patience=2, restore_best_weights=True)"
   ]
  },
  {
   "cell_type": "code",
   "execution_count": 19,
   "id": "adcdddf3",
   "metadata": {},
   "outputs": [],
   "source": [
    "# Define the GRU model\n",
    "embedding_dim = 100  # Replace with your desired embedding dimension\n",
    "num_classes = len(np.unique(labels))\n",
    "model = Sequential()\n",
    "model.add(Embedding(input_dim=len(tokenizer.word_index) + 1, output_dim=embedding_dim, input_length=max_seq_length))\n",
    "model.add(GRU(128))\n",
    "model.add(Dense(num_classes, activation='softmax'))\n",
    "model.compile(loss='sparse_categorical_crossentropy', optimizer='adam', metrics=['accuracy'])"
   ]
  },
  {
   "cell_type": "code",
   "execution_count": 20,
   "id": "53b6fa75",
   "metadata": {},
   "outputs": [
    {
     "name": "stdout",
     "output_type": "stream",
     "text": [
      "Epoch 1/10\n",
      "1834/1835 [============================>.] - ETA: 0s - loss: 1.6034 - accuracy: 0.5726WARNING:tensorflow:Early stopping conditioned on metric `val_loss` which is not available. Available metrics are: loss,accuracy\n",
      "1835/1835 [==============================] - 116s 63ms/step - loss: 1.6030 - accuracy: 0.5727\n",
      "Epoch 2/10\n",
      "1835/1835 [==============================] - ETA: 0s - loss: 0.4657 - accuracy: 0.8723WARNING:tensorflow:Early stopping conditioned on metric `val_loss` which is not available. Available metrics are: loss,accuracy\n",
      "1835/1835 [==============================] - 122s 66ms/step - loss: 0.4657 - accuracy: 0.8723\n",
      "Epoch 3/10\n",
      "1834/1835 [============================>.] - ETA: 0s - loss: 0.2144 - accuracy: 0.9378WARNING:tensorflow:Early stopping conditioned on metric `val_loss` which is not available. Available metrics are: loss,accuracy\n",
      "1835/1835 [==============================] - 113s 61ms/step - loss: 0.2144 - accuracy: 0.9378\n",
      "Epoch 4/10\n",
      "1834/1835 [============================>.] - ETA: 0s - loss: 0.1293 - accuracy: 0.9623WARNING:tensorflow:Early stopping conditioned on metric `val_loss` which is not available. Available metrics are: loss,accuracy\n",
      "1835/1835 [==============================] - 113s 61ms/step - loss: 0.1293 - accuracy: 0.9623\n",
      "Epoch 5/10\n",
      "1834/1835 [============================>.] - ETA: 0s - loss: 0.0834 - accuracy: 0.9755WARNING:tensorflow:Early stopping conditioned on metric `val_loss` which is not available. Available metrics are: loss,accuracy\n",
      "1835/1835 [==============================] - 113s 61ms/step - loss: 0.0834 - accuracy: 0.9755\n",
      "Epoch 6/10\n",
      "1834/1835 [============================>.] - ETA: 0s - loss: 0.0598 - accuracy: 0.9831WARNING:tensorflow:Early stopping conditioned on metric `val_loss` which is not available. Available metrics are: loss,accuracy\n",
      "1835/1835 [==============================] - 114s 62ms/step - loss: 0.0598 - accuracy: 0.9831\n",
      "Epoch 7/10\n",
      "1835/1835 [==============================] - ETA: 0s - loss: 0.0427 - accuracy: 0.9879WARNING:tensorflow:Early stopping conditioned on metric `val_loss` which is not available. Available metrics are: loss,accuracy\n",
      "1835/1835 [==============================] - 113s 62ms/step - loss: 0.0427 - accuracy: 0.9879\n",
      "Epoch 8/10\n",
      "1834/1835 [============================>.] - ETA: 0s - loss: 0.0361 - accuracy: 0.9892WARNING:tensorflow:Early stopping conditioned on metric `val_loss` which is not available. Available metrics are: loss,accuracy\n",
      "1835/1835 [==============================] - 112s 61ms/step - loss: 0.0360 - accuracy: 0.9892\n",
      "Epoch 9/10\n",
      "1834/1835 [============================>.] - ETA: 0s - loss: 0.0282 - accuracy: 0.9923WARNING:tensorflow:Early stopping conditioned on metric `val_loss` which is not available. Available metrics are: loss,accuracy\n",
      "1835/1835 [==============================] - 112s 61ms/step - loss: 0.0282 - accuracy: 0.9923\n",
      "Epoch 10/10\n",
      "1835/1835 [==============================] - ETA: 0s - loss: 0.0248 - accuracy: 0.9931WARNING:tensorflow:Early stopping conditioned on metric `val_loss` which is not available. Available metrics are: loss,accuracy\n",
      "1835/1835 [==============================] - 113s 62ms/step - loss: 0.0248 - accuracy: 0.9931\n"
     ]
    },
    {
     "data": {
      "text/plain": [
       "<keras.callbacks.History at 0x2074b2a3a90>"
      ]
     },
     "execution_count": 20,
     "metadata": {},
     "output_type": "execute_result"
    }
   ],
   "source": [
    "# Define early stopping callback\n",
    "early_stopping = EarlyStopping(patience=3, restore_best_weights=True)\n",
    "\n",
    "# Train the model\n",
    "model.fit(sequences, labels, epochs=10, batch_size=32, verbose=1, callbacks=[early_stopping])"
   ]
  },
  {
   "cell_type": "code",
   "execution_count": 21,
   "id": "8f875140",
   "metadata": {},
   "outputs": [
    {
     "name": "stdout",
     "output_type": "stream",
     "text": [
      "1835/1835 [==============================] - 23s 13ms/step - loss: 0.0150 - accuracy: 0.9960\n",
      "Accuracy: 0.9960308074951172\n"
     ]
    }
   ],
   "source": [
    "# Evaluate the model on the entire dataset\n",
    "loss, accuracy = model.evaluate(sequences, labels)\n",
    "print(f'Accuracy: {accuracy}')"
   ]
  },
  {
   "cell_type": "code",
   "execution_count": 29,
   "id": "50b91a5c",
   "metadata": {},
   "outputs": [
    {
     "name": "stderr",
     "output_type": "stream",
     "text": [
      "WARNING:absl:Found untraced functions such as _update_step_xla, gru_cell_1_layer_call_fn, gru_cell_1_layer_call_and_return_conditional_losses while saving (showing 3 of 3). These functions will not be directly callable after loading.\n"
     ]
    },
    {
     "name": "stdout",
     "output_type": "stream",
     "text": [
      "INFO:tensorflow:Assets written to: GRUtrinedmodel\\assets\n"
     ]
    },
    {
     "name": "stderr",
     "output_type": "stream",
     "text": [
      "INFO:tensorflow:Assets written to: GRUtrinedmodel\\assets\n"
     ]
    },
    {
     "name": "stdout",
     "output_type": "stream",
     "text": [
      "Model saved successfully.\n"
     ]
    }
   ],
   "source": [
    "# Save the model\n",
    "model.save('GRUtrinedmodel')\n",
    "print(\"Model saved successfully.\")\n"
   ]
  },
  {
   "cell_type": "code",
   "execution_count": 30,
   "id": "c700aed2",
   "metadata": {},
   "outputs": [],
   "source": [
    "# Load the saved model\n",
    "loaded_model = load_model('GRUtrinedmodel')"
   ]
  },
  {
   "cell_type": "code",
   "execution_count": null,
   "id": "5ffa7eae",
   "metadata": {},
   "outputs": [],
   "source": [
    "# Take user input and make predictions\n",
    "user_input = input(\"Enter a description: \")\n",
    "user_sequence = tokenizer.texts_to_sequences([user_input])\n",
    "user_sequence = pad_sequences(user_sequence, maxlen=max_seq_length)\n",
    "# Make predictions using the loaded model\n",
    "prediction = loaded_model.predict(user_sequence)\n",
    "predicted_class_id = np.argmax(prediction)\n",
    "predicted_class_label = id_to_label[predicted_class_id]\n",
    "print(f'Predicted Class: {predicted_class_label}')"
   ]
  },
  {
   "cell_type": "code",
   "execution_count": null,
   "id": "e03d3a3d",
   "metadata": {},
   "outputs": [],
   "source": []
  }
 ],
 "metadata": {
  "kernelspec": {
   "display_name": "Python 3 (ipykernel)",
   "language": "python",
   "name": "python3"
  },
  "language_info": {
   "codemirror_mode": {
    "name": "ipython",
    "version": 3
   },
   "file_extension": ".py",
   "mimetype": "text/x-python",
   "name": "python",
   "nbconvert_exporter": "python",
   "pygments_lexer": "ipython3",
   "version": "3.9.13"
  }
 },
 "nbformat": 4,
 "nbformat_minor": 5
}
