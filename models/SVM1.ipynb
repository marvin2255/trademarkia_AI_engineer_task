{
 "cells": [
  {
   "cell_type": "code",
   "execution_count": 13,
   "id": "89626913",
   "metadata": {},
   "outputs": [],
   "source": [
    "import pandas as pd\n",
    "from sklearn.feature_extraction.text import TfidfVectorizer\n",
    "from sklearn.model_selection import train_test_split, cross_val_score\n",
    "from sklearn.svm import LinearSVC\n",
    "import joblib\n",
    "import nltk\n",
    "from nltk.corpus import stopwords\n",
    "from nltk.stem import PorterStemmer\n",
    "from sklearn.metrics import accuracy_score"
   ]
  },
  {
   "cell_type": "code",
   "execution_count": 18,
   "id": "f8c27d07",
   "metadata": {},
   "outputs": [],
   "source": [
    "# Load the dataset from JSON file\n",
    "data = pd.read_json('idmanual (1).json')\n",
    "columns = data.columns"
   ]
  },
  {
   "cell_type": "code",
   "execution_count": 19,
   "id": "087ef167",
   "metadata": {},
   "outputs": [],
   "source": [
    "# Drop unwanted columns\n",
    "data = data.drop(['status'], axis=1)\n"
   ]
  },
  {
   "cell_type": "code",
   "execution_count": 20,
   "id": "f8355dcc",
   "metadata": {},
   "outputs": [],
   "source": [
    "# Split the dataset into training and testing sets\n",
    "X_train, X_test, y_train, y_test = train_test_split(data['description'], data['class_id'], test_size=0.2, random_state=42)"
   ]
  },
  {
   "cell_type": "code",
   "execution_count": 21,
   "id": "2e075403",
   "metadata": {},
   "outputs": [
    {
     "name": "stderr",
     "output_type": "stream",
     "text": [
      "[nltk_data] Downloading package stopwords to\n",
      "[nltk_data]     C:\\Users\\dudec\\AppData\\Roaming\\nltk_data...\n",
      "[nltk_data]   Package stopwords is already up-to-date!\n"
     ]
    }
   ],
   "source": [
    "# Create TF-IDF vectorizer with NLP techniques\n",
    "nltk.download('stopwords')\n",
    "stop_words = set(stopwords.words('english'))\n",
    "stemmer = PorterStemmer()\n",
    "vectorizer = TfidfVectorizer(stop_words=stop_words, ngram_range=(1, 2), lowercase=True)"
   ]
  },
  {
   "cell_type": "code",
   "execution_count": 22,
   "id": "b564c0a4",
   "metadata": {},
   "outputs": [],
   "source": [
    "# Fit and transform the training data\n",
    "X_train_vec = vectorizer.fit_transform(X_train.apply(lambda x: ' '.join([stemmer.stem(word) for word in x.split()])))\n",
    "\n",
    "# Transform the testing data\n",
    "X_test_vec = vectorizer.transform(X_test.apply(lambda x: ' '.join([stemmer.stem(word) for word in x.split()])))"
   ]
  },
  {
   "cell_type": "code",
   "execution_count": 23,
   "id": "26e4ffa8",
   "metadata": {},
   "outputs": [
    {
     "name": "stderr",
     "output_type": "stream",
     "text": [
      "C:\\Users\\dudec\\anaconda3\\lib\\site-packages\\sklearn\\model_selection\\_split.py:676: UserWarning: The least populated class in y has only 1 members, which is less than n_splits=5.\n",
      "  warnings.warn(\n"
     ]
    },
    {
     "name": "stdout",
     "output_type": "stream",
     "text": [
      "Cross-Validation Accuracy: 81.04%\n"
     ]
    }
   ],
   "source": [
    "# Perform cross-validation\n",
    "classifier = LinearSVC()\n",
    "cv_scores = cross_val_score(classifier, X_train_vec, y_train, cv=5)\n",
    "average_accuracy = cv_scores.mean()\n",
    "print(\"Cross-Validation Accuracy: {:.2f}%\".format(average_accuracy * 100))\n"
   ]
  },
  {
   "cell_type": "code",
   "execution_count": 24,
   "id": "0b32a836",
   "metadata": {},
   "outputs": [
    {
     "data": {
      "text/plain": [
       "LinearSVC()"
      ]
     },
     "execution_count": 24,
     "metadata": {},
     "output_type": "execute_result"
    }
   ],
   "source": [
    "# Train the final model on the entire training set\n",
    "classifier.fit(X_train_vec, y_train)\n"
   ]
  },
  {
   "cell_type": "code",
   "execution_count": 25,
   "id": "1aa98beb",
   "metadata": {},
   "outputs": [],
   "source": [
    "# Predict the class_id for test data\n",
    "predictions = classifier.predict(X_test_vec)"
   ]
  },
  {
   "cell_type": "code",
   "execution_count": 26,
   "id": "a26ea89d",
   "metadata": {},
   "outputs": [
    {
     "name": "stdout",
     "output_type": "stream",
     "text": [
      "Testing Set Accuracy: 82.10%\n"
     ]
    }
   ],
   "source": [
    "# Evaluate the model on the separate testing set\n",
    "accuracy = accuracy_score(y_test, predictions)\n",
    "print(\"Testing Set Accuracy: {:.2f}%\".format(accuracy * 100))"
   ]
  },
  {
   "cell_type": "code",
   "execution_count": 27,
   "id": "6454b16f",
   "metadata": {},
   "outputs": [
    {
     "data": {
      "text/plain": [
       "['vectorizer.joblib']"
      ]
     },
     "execution_count": 27,
     "metadata": {},
     "output_type": "execute_result"
    }
   ],
   "source": [
    "# Save the trained model and vectorizer\n",
    "joblib.dump(classifier, \"svm_model.joblib\")\n",
    "joblib.dump(vectorizer, \"vectorizer.joblib\")"
   ]
  },
  {
   "cell_type": "code",
   "execution_count": 45,
   "id": "9e16ed40",
   "metadata": {},
   "outputs": [
    {
     "name": "stdout",
     "output_type": "stream",
     "text": [
      "Enter a description: i need new beer barnd\n",
      "Prediction:  ['032']\n"
     ]
    }
   ],
   "source": [
    "# User input for prediction\n",
    "user_input = input(\"Enter a description: \")\n",
    "user_input_vec = vectorizer.transform([user_input])\n",
    "prediction = classifier.predict(user_input_vec)\n",
    "\n",
    "print(\"Prediction: \", prediction)"
   ]
  },
  {
   "cell_type": "code",
   "execution_count": null,
   "id": "a91d9b06",
   "metadata": {},
   "outputs": [],
   "source": []
  },
  {
   "cell_type": "code",
   "execution_count": null,
   "id": "0460cd35",
   "metadata": {},
   "outputs": [],
   "source": []
  }
 ],
 "metadata": {
  "kernelspec": {
   "display_name": "Python 3 (ipykernel)",
   "language": "python",
   "name": "python3"
  },
  "language_info": {
   "codemirror_mode": {
    "name": "ipython",
    "version": 3
   },
   "file_extension": ".py",
   "mimetype": "text/x-python",
   "name": "python",
   "nbconvert_exporter": "python",
   "pygments_lexer": "ipython3",
   "version": "3.9.13"
  }
 },
 "nbformat": 4,
 "nbformat_minor": 5
}
